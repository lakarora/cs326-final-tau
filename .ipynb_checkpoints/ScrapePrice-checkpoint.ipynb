{
 "cells": [
  {
   "cell_type": "code",
   "execution_count": 74,
   "metadata": {},
   "outputs": [],
   "source": [
    "import numpy as np\n",
    "import pandas as pd\n",
    "from bs4 import BeautifulSoup\n",
    "import requests\n",
    "import re\n",
    "import json\n",
    "\n",
    "amazon_url = 'https://www.amazon.com/s?k='\n",
    "\n",
    "def get_top_link(page):\n",
    "    soup = BeautifulSoup(page.content)\n",
    "    html = str(soup.text)\n",
    "    links = []\n",
    "    spans = soup.findAll(\"a\")\n",
    "    for link in soup.findAll('a', {\"class\": \"a-link-normal a-text-normal\"}):\n",
    "        links.append(link.get('href'))\n",
    "    \n",
    "    link = 'https://www.amazon.com' +links[0]\n",
    "    return link\n",
    "\n",
    "class ScrapePrice:\n",
    "    def get_price(self, title):\n",
    "        query = title.replace(' ', '+')\n",
    "        URL = amazon_url + query +'&page=1'\n",
    "        headers = requests.utils.default_headers()\n",
    "        headers.update({\n",
    "            'User-Agent': 'Mozilla/5.0 (X11; Ubuntu; Linux x86_64; rv:52.0) Gecko/20100101 Firefox/52.0',\n",
    "        })\n",
    "        page = requests.get(URL, headers=headers)\n",
    "        print(URL)\n",
    "        if page.status_code == 200: \n",
    "            top_link = get_top_link(page)\n",
    "            return parse_html(page)\n",
    "        else:\n",
    "            return \"Blocked\""
   ]
  },
  {
   "cell_type": "code",
   "execution_count": 75,
   "metadata": {},
   "outputs": [
    {
     "name": "stdout",
     "output_type": "stream",
     "text": [
      "https://www.amazon.com/s?k=Artificial+Intelligence+A+Modern+Approach&page=1\n"
     ]
    },
    {
     "data": {
      "text/plain": [
       "['/gp/slredirect/picassoRedirect.html/ref=pa_sp_atf_aps_sr_pg1_1?ie=UTF8&adId=A00085421F2RNGU8IR4G8&url=%2FCrash-Course-hands-introduction-reinforcement%2Fdp%2F1838645357%2Fref%3Dsr_1_1_sspa%3Fdchild%3D1%26keywords%3DArtificial%2BIntelligence%2BA%2BModern%2BApproach%26qid%3D1585954355%26sr%3D8-1-spons%26psc%3D1&qualifier=1585954355&id=4967054459335906&widgetName=sp_atf',\n",
       " '/Artificial-Intelligence-A-Modern-Approach/dp/0134610997/ref=sr_1_2?dchild=1&keywords=Artificial+Intelligence+A+Modern+Approach&qid=1585954355&sr=8-2',\n",
       " '/Artificial-Intelligence-Approach-Stuart-Russell-ebook/dp/B00I2XV9IY/ref=sr_1_3?dchild=1&keywords=Artificial+Intelligence+A+Modern+Approach&qid=1585954355&sr=8-3',\n",
       " '/Artificial-Intelligence-Approach-ARTIFICIAL-INTELLIGENCE/dp/B008NYIYZS/ref=sr_1_4?dchild=1&keywords=Artificial+Intelligence+A+Modern+Approach&qid=1585954355&sr=8-4',\n",
       " '/Artificial-Intelligence-Things-Today-Future-ebook/dp/B079JXCVGS/ref=sr_1_5?dchild=1&keywords=Artificial+Intelligence+A+Modern+Approach&qid=1585954355&sr=8-5',\n",
       " '/Introduction-Algorithms-Press-Thomas-Cormen-ebook/dp/B007CNRCAO/ref=sr_1_6?dchild=1&keywords=Artificial+Intelligence+A+Modern+Approach&qid=1585954355&sr=8-6',\n",
       " '/Applied-Artificial-Intelligence-Handbook-Business-ebook/dp/B07DHZT2DW/ref=sr_1_7?dchild=1&keywords=Artificial+Intelligence+A+Modern+Approach&qid=1585954355&sr=8-7',\n",
       " '/AI-Superpowers-China-Silicon-Valley/dp/B07G8KTTX4/ref=sr_1_8?dchild=1&keywords=Artificial+Intelligence+A+Modern+Approach&qid=1585954355&sr=8-8',\n",
       " '/Deep-Learning-Adaptive-Computation-Machine/dp/0262035618/ref=sr_1_9?dchild=1&keywords=Artificial+Intelligence+A+Modern+Approach&qid=1585954355&sr=8-9',\n",
       " '/dp/B085C6LR8M?searchxofy=true&ref_=dbs_s_aps_series_rwt',\n",
       " '/gp/slredirect/picassoRedirect.html/ref=pa_sp_mtf_aps_sr_pg1_1?ie=UTF8&adId=A1001403O1ZGAPA61SIV&url=%2FCognitive-Computing-IBM-Watson-applications%2Fdp%2F1788478290%2Fref%3Dsr_1_10_sspa%3Fdchild%3D1%26keywords%3DArtificial%2BIntelligence%2BA%2BModern%2BApproach%26qid%3D1585954355%26sr%3D8-10-spons%26psc%3D1&qualifier=1585954355&id=4967054459335906&widgetName=sp_mtf',\n",
       " '/gp/slredirect/picassoRedirect.html/ref=pa_sp_mtf_aps_sr_pg1_2?ie=UTF8&adId=A078018132VKU9MXBWMOD&url=%2FMachine-Learning-Comprehensive-Artificial-Intelligence-ebook%2Fdp%2FB0842QM47Q%2Fref%3Dsr_1_11_sspa%3Fdchild%3D1%26keywords%3DArtificial%2BIntelligence%2BA%2BModern%2BApproach%26qid%3D1585954355%26sr%3D8-11-spons%26psc%3D1&qualifier=1585954355&id=4967054459335906&widgetName=sp_mtf',\n",
       " '/Artificial-Intelligence-Modern-Approach-2nd/dp/0137903952/ref=sr_1_12?dchild=1&keywords=Artificial+Intelligence+A+Modern+Approach&qid=1585954355&sr=8-12',\n",
       " '/Artificial-Intelligence-Modern-Approach-Medicine/dp/B07TTJRNM7/ref=sr_1_13?dchild=1&keywords=Artificial+Intelligence+A+Modern+Approach&qid=1585954355&sr=8-13',\n",
       " '/Life-3-0-Being-Artificial-Intelligence/dp/B0742JQF31/ref=sr_1_14?dchild=1&keywords=Artificial+Intelligence+A+Modern+Approach&qid=1585954355&sr=8-14',\n",
       " '/Machine-Learning-Absolute-Beginners-Introduction-ebook/dp/B07335JNW1/ref=sr_1_15?dchild=1&keywords=Artificial+Intelligence+A+Modern+Approach&qid=1585954355&sr=8-15',\n",
       " '/dp/B07G8QMDZX?searchxofy=true&ref_=dbs_s_aps_series_rwt',\n",
       " '/Artificial-Intelligence-Dummies-Computer-Tech-ebook/dp/B07BK2YZ69/ref=sr_1_16?dchild=1&keywords=Artificial+Intelligence+A+Modern+Approach&qid=1585954355&sr=8-16',\n",
       " '/Artificial-Intelligence-Approach-1-Jul-1905-Paperback/dp/B011T6Z8SC/ref=sr_1_17?dchild=1&keywords=Artificial+Intelligence+A+Modern+Approach&qid=1585954355&sr=8-17',\n",
       " '/Superintelligence-Paths-Dangers-Strategies/dp/B00LPMFE9Y/ref=sr_1_18?dchild=1&keywords=Artificial+Intelligence+A+Modern+Approach&qid=1585954355&sr=8-18',\n",
       " '/Machine-Learning-Beginners-2019-Intelligence-ebook/dp/B07NS9MNDD/ref=sr_1_19?dchild=1&keywords=Artificial+Intelligence+A+Modern+Approach&qid=1585954355&sr=8-19',\n",
       " '/gp/slredirect/picassoRedirect.html/ref=pa_sp_btf_aps_sr_pg1_1?ie=UTF8&adId=A05438452XOJ63HAUAD9Y&url=%2FComputer-Networking-Beginners-Cybersecurity-Intelligence%2Fdp%2FB085KJ6YK5%2Fref%3Dsr_1_20_sspa%3Fdchild%3D1%26keywords%3DArtificial%2BIntelligence%2BA%2BModern%2BApproach%26qid%3D1585954355%26sr%3D8-20-spons%26psc%3D1&qualifier=1585954355&id=4967054459335906&widgetName=sp_btf',\n",
       " '/gp/slredirect/picassoRedirect.html/ref=pa_sp_btf_aps_sr_pg1_2?ie=UTF8&adId=A05089363Q7GOQMMPA5P3&url=%2FMachine-Learning-Beginners-2019-Intelligence%2Fdp%2F1092801561%2Fref%3Dsr_1_21_sspa%3Fdchild%3D1%26keywords%3DArtificial%2BIntelligence%2BA%2BModern%2BApproach%26qid%3D1585954355%26sr%3D8-21-spons%26psc%3D1&qualifier=1585954355&id=4967054459335906&widgetName=sp_btf',\n",
       " '/gp/slredirect/picassoRedirect.html/ref=pa_sp_btf_aps_sr_pg1_3?ie=UTF8&adId=A0897016DRZDHV8T9LLH&url=%2FHands-Artificial-Intelligence-Google-Platform%2Fdp%2F1789538467%2Fref%3Dsr_1_22_sspa%3Fdchild%3D1%26keywords%3DArtificial%2BIntelligence%2BA%2BModern%2BApproach%26qid%3D1585954355%26sr%3D8-22-spons%26psc%3D1&qualifier=1585954355&id=4967054459335906&widgetName=sp_btf']"
      ]
     },
     "execution_count": 75,
     "metadata": {},
     "output_type": "execute_result"
    }
   ],
   "source": [
    "s = ScrapePrice()\n",
    "s.get_price(\"Artificial Intelligence A Modern Approach\")"
   ]
  },
  {
   "cell_type": "code",
   "execution_count": null,
   "metadata": {},
   "outputs": [],
   "source": []
  }
 ],
 "metadata": {
  "kernelspec": {
   "display_name": "Python 3",
   "language": "python",
   "name": "python3"
  },
  "language_info": {
   "codemirror_mode": {
    "name": "ipython",
    "version": 3
   },
   "file_extension": ".py",
   "mimetype": "text/x-python",
   "name": "python",
   "nbconvert_exporter": "python",
   "pygments_lexer": "ipython3",
   "version": "3.5.4"
  }
 },
 "nbformat": 4,
 "nbformat_minor": 2
}
